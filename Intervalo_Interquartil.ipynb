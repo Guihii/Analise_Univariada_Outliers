{
  "nbformat": 4,
  "nbformat_minor": 0,
  "metadata": {
    "colab": {
      "name": "Intervalo Interquartil.ipynb",
      "provenance": []
    },
    "kernelspec": {
      "name": "python3",
      "display_name": "Python 3"
    },
    "language_info": {
      "name": "python"
    }
  },
  "cells": [
    {
      "cell_type": "markdown",
      "source": [
        "**Análise de Outliers**"
      ],
      "metadata": {
        "id": "jVfLT3CLaDVa"
      }
    },
    {
      "cell_type": "code",
      "source": [
        "#Bibliotecas necessárias\n",
        "\n",
        "import numpy as np\n",
        "import matplotlib.pyplot as plt\n",
        "from numpy.lib.function_base import append\n",
        "\n"
      ],
      "metadata": {
        "id": "57AOpmKCexrU"
      },
      "execution_count": 5,
      "outputs": []
    },
    {
      "cell_type": "code",
      "source": [
        "#Dados de pressão sistolica\n",
        "\n",
        "\n",
        "PAS = np.array([60, 126,\t172,\t130,\t135,\t115,\t136,\t127,\t172,\t126,\t134,\t153,\t137,\t111,\t127,\t126,\t114,\t131,\t110,\t130,\t145,\t98,\t106,\t140])\n",
        "\n",
        "#Ajustando gráfico\n",
        "\n",
        "plt.figure(dpi=150)\n",
        "plt.subplot(211)\n",
        "plt.boxplot(PAS, vert=False)\n",
        "plt.subplot(212)\n",
        "plt.plot(PAS, 'x')\n",
        "plt.grid()\n",
        "plt.show()\n"
      ],
      "metadata": {
        "colab": {
          "base_uri": "https://localhost:8080/",
          "height": 534
        },
        "id": "mdTGdCVtn3sv",
        "outputId": "0fd6ed00-a22a-4098-ebc4-f436e4190c4e"
      },
      "execution_count": 2,
      "outputs": [
        {
          "output_type": "display_data",
          "data": {
            "text/plain": [
              "<Figure size 900x600 with 2 Axes>"
            ],
            "image/png": "[encoded data removed]"
          },
          "metadata": {
            "needs_background": "light"
          }
        }
      ]
    },
    {
      "cell_type": "code",
      "source": [
        "#Calcular os quartis\n",
        "# Q1: 25 percentil (quartil inferior)\n",
        "# Q2: 75 percentil (quartil superior)\n",
        "Q1 = np.percentile(PAS, 25)\n",
        "Q3 = np.percentile(PAS, 75)\n",
        "\n",
        "print('Q1: %.2f' %Q1)\n",
        "print('Q3: %.2f' %Q3)"
      ],
      "metadata": {
        "colab": {
          "base_uri": "https://localhost:8080/"
        },
        "id": "92tu01dOrl_Q",
        "outputId": "25313b6c-1819-4aca-c92c-14af915f6f97"
      },
      "execution_count": 3,
      "outputs": [
        {
          "output_type": "stream",
          "name": "stdout",
          "text": [
            "Q1: 114.75\n",
            "Q3: 136.25\n"
          ]
        }
      ]
    },
    {
      "cell_type": "markdown",
      "source": [
        "Calcular intervalo interquartil (IIQ) e os limites inferior e superior utilizando uma constante C, que geralmente recebe o valor de 1.5\n"
      ],
      "metadata": {
        "id": "TQ1MfaXK0UW6"
      }
    },
    {
      "cell_type": "code",
      "source": [
        "C = 1.5\n",
        "IIQ = Q3 - Q1\n",
        "LI = Q1 - (C*IIQ)\n",
        "LS = Q3 + (C*IIQ)\n",
        "\n",
        "print('IIQ: %.2f' %IIQ)\n",
        "print(' -- Limites: --')\n",
        "print(' Inferior : %.2f' %LI)\n",
        "print(' Superior : %.2f' %LS)"
      ],
      "metadata": {
        "colab": {
          "base_uri": "https://localhost:8080/"
        },
        "id": "rBPHNDhRsTWT",
        "outputId": "bc80b117-73f8-4637-da89-b94ecd6ad80a"
      },
      "execution_count": 4,
      "outputs": [
        {
          "output_type": "stream",
          "name": "stdout",
          "text": [
            "IIQ: 21.50\n",
            " -- Limites: --\n",
            " Inferior : 82.50\n",
            " Superior : 168.50\n"
          ]
        }
      ]
    },
    {
      "cell_type": "code",
      "source": [
        "#Obtem e Remove os Outliers\n",
        "\n",
        "pas_sem_outliers = []\n",
        "outliers = []\n",
        "\n",
        "for p in PAS:\n",
        "  if p > LS or p < LI:\n",
        "    outliers.append(p)\n",
        "\n",
        "  else: \n",
        "    pas_sem_outliers.append(p)\n",
        "\n",
        "\n",
        "print(\" -- Outliers: -- \")\n",
        "print(outliers)\n",
        "print(\" -- Sem Outliers: -- \")\n",
        "pas_sem_outliers.sort()\n",
        "print(pas_sem_outliers)\n",
        "\n"
      ],
      "metadata": {
        "colab": {
          "base_uri": "https://localhost:8080/"
        },
        "id": "9pKrin8PtYtT",
        "outputId": "01603798-c5c8-4d32-8e9d-d01882fd30ac"
      },
      "execution_count": 6,
      "outputs": [
        {
          "output_type": "stream",
          "name": "stdout",
          "text": [
            " -- Outliers: -- \n",
            "[60, 172, 172]\n",
            " -- Sem Outliers: -- \n",
            "[98, 106, 110, 111, 114, 115, 126, 126, 126, 127, 127, 130, 130, 131, 134, 135, 136, 137, 140, 145, 153]\n"
          ]
        }
      ]
    }
  ]
}