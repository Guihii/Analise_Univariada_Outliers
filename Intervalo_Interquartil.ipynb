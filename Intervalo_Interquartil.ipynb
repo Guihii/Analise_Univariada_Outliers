{
  "nbformat": 4,
  "nbformat_minor": 0,
  "metadata": {
    "colab": {
      "name": "Intervalo Interquartil.ipynb",
      "provenance": []
    },
    "kernelspec": {
      "name": "python3",
      "display_name": "Python 3"
    },
    "language_info": {
      "name": "python"
    }
  },
  "cells": [
    {
      "cell_type": "markdown",
      "source": [
        "**Análise de Outliers**"
      ],
      "metadata": {
        "id": "jVfLT3CLaDVa"
      }
    },
    {
      "cell_type": "code",
      "source": [
        "#Bibliotecas necessárias\n",
        "\n",
        "import numpy as np\n",
        "import matplotlib.pyplot as plt\n",
        "from numpy.lib.function_base import append\n",
        "\n"
      ],
      "metadata": {
        "id": "57AOpmKCexrU"
      },
      "execution_count": 5,
      "outputs": []
    },
    {
      "cell_type": "code",
      "source": [
        "#Dados de pressão sistolica\n",
        "\n",
        "\n",
        "PAS = np.array([60, 126,\t172,\t130,\t135,\t115,\t136,\t127,\t172,\t126,\t134,\t153,\t137,\t111,\t127,\t126,\t114,\t131,\t110,\t130,\t145,\t98,\t106,\t140, 135,\t128,\t122,\t129,\t125,\t130,\t145,\t122,\t126,\t151,\t134,\t134,\t110,\t122,\t126,\t169,\t120,\t134,\t157,\t145,\t170,\t133,\t194,\t136,\t101,\t116,\t131,\t139,\t110])\n",
        "\n",
        "#Ajustando gráfico\n",
        "\n",
        "plt.figure(dpi=150)\n",
        "plt.subplot(211)\n",
        "plt.boxplot(PAS, vert=False)\n",
        "plt.subplot(212)\n",
        "plt.plot(PAS, 'x')\n",
        "plt.grid()\n",
        "plt.show()\n"
      ],
      "metadata": {
        "colab": {
          "base_uri": "https://localhost:8080/",
          "height": 534
        },
        "id": "mdTGdCVtn3sv",
        "outputId": "b91d3516-40a7-4bfe-e12e-510b625bb150"
      },
      "execution_count": 6,
      "outputs": [
        {
          "output_type": "display_data",
          "data": {
            "text/plain": [
              "<Figure size 900x600 with 2 Axes>"
            ],
            "image/png": "[encoded data removed]"
          },
          "metadata": {
            "needs_background": "light"
          }
        }
      ]
    },
    {
      "cell_type": "code",
      "source": [
        "#Calcular os quartis\n",
        "# Q1: 25 percentil (quartil inferior)\n",
        "# Q2: 75 percentil (quartil superior)\n",
        "Q1 = np.percentile(PAS, 25)\n",
        "Q3 = np.percentile(PAS, 75)\n",
        "\n",
        "print('Q1: %.2f' %Q1)\n",
        "print('Q3: %.2f' %Q3)"
      ],
      "metadata": {
        "colab": {
          "base_uri": "https://localhost:8080/"
        },
        "id": "92tu01dOrl_Q",
        "outputId": "f77b8642-9fa3-4522-8917-70199e7d8cbd"
      },
      "execution_count": 7,
      "outputs": [
        {
          "output_type": "stream",
          "name": "stdout",
          "text": [
            "Q1: 122.00\n",
            "Q3: 137.00\n"
          ]
        }
      ]
    },
    {
      "cell_type": "markdown",
      "source": [
        "Calcular intervalo interquartil (IIQ) e os limites inferior e superior utilizando uma constante C, que geralmente recebe o valor de 1.5\n"
      ],
      "metadata": {
        "id": "TQ1MfaXK0UW6"
      }
    },
    {
      "cell_type": "code",
      "source": [
        "C = 1.5\n",
        "IIQ = Q3 - Q1\n",
        "LI = Q1 - (C*IIQ)\n",
        "LS = Q3 + (C*IIQ)\n",
        "\n",
        "print('IIQ: %.2f' %IIQ)\n",
        "print(' -- Limites: --')\n",
        "print(' Inferior : %.2f' %LI)\n",
        "print(' Superior : %.2f' %LS)"
      ],
      "metadata": {
        "colab": {
          "base_uri": "https://localhost:8080/"
        },
        "id": "rBPHNDhRsTWT",
        "outputId": "8294ca0e-b9a3-44c6-8a0c-4a018597dd81"
      },
      "execution_count": 8,
      "outputs": [
        {
          "output_type": "stream",
          "name": "stdout",
          "text": [
            "IIQ: 15.00\n",
            " -- Limites: --\n",
            " Inferior : 99.50\n",
            " Superior : 159.50\n"
          ]
        }
      ]
    },
    {
      "cell_type": "code",
      "source": [
        "#Obtem e Remove os Outliers\n",
        "\n",
        "pas_sem_outliers = []\n",
        "outliers = []\n",
        "\n",
        "for p in PAS:\n",
        "  if p > LS or p < LI:\n",
        "    outliers.append(p)\n",
        "\n",
        "  else: \n",
        "    pas_sem_outliers.append(p)\n",
        "\n",
        "\n",
        "print(\" -- Outliers: -- \")\n",
        "print(outliers)\n",
        "print(\" -- Sem Outliers: -- \")\n",
        "pas_sem_outliers.sort()\n",
        "print(pas_sem_outliers)\n",
        "\n"
      ],
      "metadata": {
        "colab": {
          "base_uri": "https://localhost:8080/"
        },
        "id": "9pKrin8PtYtT",
        "outputId": "c621adfb-2b91-48c8-99a5-3817d33bb1fd"
      },
      "execution_count": 9,
      "outputs": [
        {
          "output_type": "stream",
          "name": "stdout",
          "text": [
            " -- Outliers: -- \n",
            "[60, 172, 172, 98, 169, 170, 194]\n",
            " -- Sem Outliers: -- \n",
            "[101, 106, 110, 110, 110, 111, 114, 115, 116, 120, 122, 122, 122, 125, 126, 126, 126, 126, 126, 127, 127, 128, 129, 130, 130, 130, 131, 131, 133, 134, 134, 134, 134, 135, 135, 136, 136, 137, 139, 140, 145, 145, 145, 151, 153, 157]\n"
          ]
        }
      ]
    }
  ]
}