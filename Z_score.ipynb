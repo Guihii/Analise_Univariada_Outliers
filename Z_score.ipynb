{
  "nbformat": 4,
  "nbformat_minor": 0,
  "metadata": {
    "colab": {
      "name": "Z-score.ipynb",
      "provenance": []
    },
    "kernelspec": {
      "name": "python3",
      "display_name": "Python 3"
    },
    "language_info": {
      "name": "python"
    }
  },
  "cells": [
    {
      "cell_type": "markdown",
      "source": [
        "\n",
        "**Cuidados a tomar**\n",
        "*   Deve ser utilizado se a distruibuição dos dados for Normal\n",
        "*   Em pequenos conjuntos de dados (menor que 10) retorna valores não confiáveis\n",
        "*   É sensível a muitos Outilers. Os Z-scores tornam-se menos extremos\n",
        "\n"
      ],
      "metadata": {
        "id": "lbwH6yvt5_YF"
      }
    },
    {
      "cell_type": "code",
      "execution_count": 1,
      "metadata": {
        "id": "FiI72YxB1-Vf"
      },
      "outputs": [],
      "source": [
        "#Bibliotecas necessárias\n",
        "\n",
        "import numpy as np\n",
        "import matplotlib.pyplot as plt\n",
        "from numpy.lib.function_base import append"
      ]
    },
    {
      "cell_type": "code",
      "source": [
        "#Dados de pressão sistolica\n",
        "PAS = np.array([60, 126,\t172,\t130,\t135,\t115,\t136,\t127,\t172,\t126,\t134,\t153,\t137,\t111,\t127,\t126,\t114,\t131,\t110,\t130,\t145,\t98,\t106,\t140, 135,\t128,\t122,\t129,\t125,\t130,\t145,\t122,\t126,\t151,\t134,\t134,\t110,\t122,\t126,\t169,\t120,\t134,\t157,\t145,\t170,\t133,\t194,\t136,\t101,\t116,\t131,\t139,\t110])"
      ],
      "metadata": {
        "id": "8vHh71Jf6-Jg"
      },
      "execution_count": 3,
      "outputs": []
    },
    {
      "cell_type": "markdown",
      "source": [
        "**1 Passo**: Calcular o Z-score\n",
        "\n",
        "\n",
        "\n",
        "\n"
      ],
      "metadata": {
        "id": "zRM7sCCp6i7k"
      }
    },
    {
      "cell_type": "code",
      "source": [
        "z_scores = (PAS - np.mean(PAS)) / np.std(PAS)\n",
        "print('Z-score', z_scores)"
      ],
      "metadata": {
        "colab": {
          "base_uri": "https://localhost:8080/"
        },
        "id": "fMYDhwKb7Bbe",
        "outputId": "2b50d7f4-2813-469e-84e3-96b33619366f"
      },
      "execution_count": 4,
      "outputs": [
        {
          "output_type": "stream",
          "name": "stdout",
          "text": [
            "Z-score [-3.38505807 -0.24838704  1.93777761 -0.05828577  0.17934082 -0.77116555\n",
            "  0.22686614 -0.20086172  1.93777761 -0.24838704  0.13181551  1.03479656\n",
            "  0.27439146 -0.96126682 -0.20086172 -0.24838704 -0.81869086 -0.01076045\n",
            " -1.00879214 -0.05828577  0.65459401 -1.57909596 -1.19889341  0.41696742\n",
            "  0.17934082 -0.15333641 -0.43848832 -0.10581109 -0.29591236 -0.05828577\n",
            "  0.65459401 -0.43848832 -0.24838704  0.93974592  0.13181551  0.13181551\n",
            " -1.00879214 -0.43848832 -0.24838704  1.79520166 -0.53353895  0.13181551\n",
            "  1.22489783  0.65459401  1.84272697  0.08429019  2.98333462  0.22686614\n",
            " -1.43652001 -0.72364023 -0.01076045  0.3694421  -1.00879214]\n"
          ]
        }
      ]
    },
    {
      "cell_type": "markdown",
      "source": [
        "**2 Passo**: Remoção e obtenção dos outliers, ou seja, os Z-score que ultrapassam o limiar de ±1"
      ],
      "metadata": {
        "id": "yV5Jl1nSAB-P"
      }
    },
    {
      "cell_type": "code",
      "source": [
        "limiar=1 #1desvio padrão\n",
        "pas_sem_outliers_z_score = []\n",
        "outliers =[]\n",
        "\n",
        "for p, z_score in enumerate(z_scores):\n",
        "  if np.abs(z_score) > limiar:\n",
        "    outliers.append(PAS[p])\n",
        "\n",
        "  else:\n",
        "    pas_sem_outliers_z_score.append(PAS[p])\n",
        "\n",
        "print(\" -- Outliers: -- \")\n",
        "print(outliers)\n",
        "print(\" -- Sem Outliers: -- \")\n",
        "pas_sem_outliers_z_score.sort()\n",
        "print(pas_sem_outliers_z_score)\n"
      ],
      "metadata": {
        "colab": {
          "base_uri": "https://localhost:8080/"
        },
        "id": "d4-1fe6Y--LW",
        "outputId": "0d123601-8f18-4506-904e-ee747c581f4e"
      },
      "execution_count": 7,
      "outputs": [
        {
          "output_type": "stream",
          "name": "stdout",
          "text": [
            " -- Outliers: -- \n",
            "[60, 172, 172, 153, 110, 98, 106, 110, 169, 157, 170, 194, 101, 110]\n",
            " -- Sem Outliers: -- \n",
            "[111, 114, 115, 116, 120, 122, 122, 122, 125, 126, 126, 126, 126, 126, 127, 127, 128, 129, 130, 130, 130, 131, 131, 133, 134, 134, 134, 134, 135, 135, 136, 136, 137, 139, 140, 145, 145, 145, 151]\n"
          ]
        }
      ]
    }
  ]
}