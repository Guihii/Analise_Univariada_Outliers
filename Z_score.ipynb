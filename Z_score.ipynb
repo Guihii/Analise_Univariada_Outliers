{
  "nbformat": 4,
  "nbformat_minor": 0,
  "metadata": {
    "colab": {
      "name": "Z-score.ipynb",
      "provenance": []
    },
    "kernelspec": {
      "name": "python3",
      "display_name": "Python 3"
    },
    "language_info": {
      "name": "python"
    }
  },
  "cells": [
    {
      "cell_type": "markdown",
      "source": [
        "\n",
        "**Cuidados a tomar**\n",
        "*   Deve ser utilizado se a distruibuição dos dados for Normal\n",
        "*   Em pequenos conjuntos de dados (menor que 10) retorna valores não confiáveis\n",
        "*   É sensível a muitos Outilers. Os Z-scores tornam-se menos extremos\n",
        "\n"
      ],
      "metadata": {
        "id": "lbwH6yvt5_YF"
      }
    },
    {
      "cell_type": "code",
      "execution_count": 1,
      "metadata": {
        "id": "FiI72YxB1-Vf"
      },
      "outputs": [],
      "source": [
        "#Bibliotecas necessárias\n",
        "\n",
        "import numpy as np\n",
        "import matplotlib.pyplot as plt\n",
        "from numpy.lib.function_base import append"
      ]
    },
    {
      "cell_type": "code",
      "source": [
        "#Dados de pressão sistolica\n",
        "PAS = np.array([60, 126,\t172,\t130,\t135,\t115,\t136,\t127,\t172,\t126,\t134,\t153,\t137,\t111,\t127,\t126,\t114,\t131,\t110,\t130,\t145,\t98,\t106,\t140])"
      ],
      "metadata": {
        "id": "8vHh71Jf6-Jg"
      },
      "execution_count": 2,
      "outputs": []
    },
    {
      "cell_type": "markdown",
      "source": [
        "**1 Passo**: Calcular o Z-score\n",
        "\n",
        "\n",
        "\n",
        "\n"
      ],
      "metadata": {
        "id": "zRM7sCCp6i7k"
      }
    },
    {
      "cell_type": "code",
      "source": [
        "z_scores = (PAS - np.mean(PAS)) / np.std(PAS)\n",
        "print('Z-score', z_scores)"
      ],
      "metadata": {
        "colab": {
          "base_uri": "https://localhost:8080/"
        },
        "id": "fMYDhwKb7Bbe",
        "outputId": "2a89673c-827e-439b-e44a-a73da8a553bd"
      },
      "execution_count": 15,
      "outputs": [
        {
          "output_type": "stream",
          "name": "stdout",
          "text": [
            "Z-score [-2.99914294 -0.06845669  1.97414283  0.10916066  0.33118235 -0.5569044\n",
            "  0.37558669 -0.02405235  1.97414283 -0.06845669  0.28677801  1.13046042\n",
            "  0.41999102 -0.73452175 -0.02405235 -0.06845669 -0.60130873  0.153565\n",
            " -0.77892608  0.10916066  0.77522572 -1.31177813 -0.95654343  0.55320403]\n"
          ]
        }
      ]
    },
    {
      "cell_type": "markdown",
      "source": [
        "**2 Passo**: Remoção e obtenção dos outliers, ou seja, os Z-score que ultrapassam o limiar de ±1"
      ],
      "metadata": {
        "id": "yV5Jl1nSAB-P"
      }
    },
    {
      "cell_type": "code",
      "source": [
        "limiar=1 #1desvio padrão\n",
        "pas_sem_outliers_z_score = []\n",
        "outliers =[]\n",
        "\n",
        "for p, z_score in enumerate(z_scores):\n",
        "  if np.abs(z_score) > limiar:\n",
        "    outliers.append(PAS[p])\n",
        "\n",
        "  else:\n",
        "    pas_sem_outliers_z_score.append(PAS[p])\n",
        "\n",
        "print(\" -- Outliers: -- \")\n",
        "print(outliers)\n",
        "print(\" -- Sem Outliers: -- \")\n",
        "pas_sem_outliers_z_score.sort()\n",
        "print(pas_sem_outliers_z_score)\n"
      ],
      "metadata": {
        "colab": {
          "base_uri": "https://localhost:8080/"
        },
        "id": "d4-1fe6Y--LW",
        "outputId": "efb0431a-58d1-4a29-96ce-a271255a537f"
      },
      "execution_count": 20,
      "outputs": [
        {
          "output_type": "stream",
          "name": "stdout",
          "text": [
            " -- Outliers: -- \n",
            "[60, 172, 172, 153, 98]\n",
            " -- Sem Outliers: -- \n",
            "[106, 110, 111, 114, 115, 126, 126, 126, 127, 127, 130, 130, 131, 134, 135, 136, 137, 140, 145]\n"
          ]
        }
      ]
    }
  ]
}